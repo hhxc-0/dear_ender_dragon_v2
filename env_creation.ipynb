{
 "cells": [
  {
   "cell_type": "code",
   "execution_count": 1,
   "id": "ee178381",
   "metadata": {},
   "outputs": [],
   "source": [
    "import gym\n",
    "from gym.wrappers.record_episode_statistics import RecordEpisodeStatistics\n",
    "import minerl\n",
    "from wrappers import *\n",
    "\n",
    "def make_env(env_id, idx, capture_video, run_name):\n",
    "    def thunk():\n",
    "        env = gym.make(env_id)\n",
    "        env = RecordEpisodeStatistics(env)\n",
    "        return env\n",
    "\n",
    "    return thunk\n",
    "env = gym.make('MineRLBasaltFindCave-v0')\n",
    "\n"
   ]
  },
  {
   "cell_type": "code",
   "execution_count": 2,
   "id": "7bb1a58c",
   "metadata": {},
   "outputs": [],
   "source": [
    "env = CustomObservationSpace(env)\n",
    "env = CustomActionSpace(env)"
   ]
  },
  {
   "cell_type": "code",
   "execution_count": 3,
   "id": "ca270ce6",
   "metadata": {},
   "outputs": [
    {
     "data": {
      "text/plain": [
       "Box(low=0, high=255, shape=(360, 640, 3))"
      ]
     },
     "execution_count": 3,
     "metadata": {},
     "output_type": "execute_result"
    }
   ],
   "source": [
    "env.observation_space"
   ]
  },
  {
   "cell_type": "code",
   "execution_count": 4,
   "id": "1efaf76f",
   "metadata": {},
   "outputs": [
    {
     "data": {
      "text/plain": [
       "Dict(camera_head:Discrete(121), main_head:Discrete(34561))"
      ]
     },
     "execution_count": 4,
     "metadata": {},
     "output_type": "execute_result"
    }
   ],
   "source": [
    "env.action_space"
   ]
  },
  {
   "cell_type": "code",
   "execution_count": 5,
   "id": "a54d39ce",
   "metadata": {},
   "outputs": [
    {
     "data": {
      "text/plain": [
       "{'camera_head': 0, 'main_head': 0}"
      ]
     },
     "execution_count": 5,
     "metadata": {},
     "output_type": "execute_result"
    }
   ],
   "source": [
    "dict({k:0 for k in env.action_space.keys()})"
   ]
  },
  {
   "cell_type": "code",
   "execution_count": 6,
   "id": "e5565be0",
   "metadata": {},
   "outputs": [
    {
     "name": "stdout",
     "output_type": "stream",
     "text": [
      "Environment created successfully.\n"
     ]
    }
   ],
   "source": [
    "print(\"Environment created successfully.\")\n",
    "obs = env.reset()\n",
    "done = False"
   ]
  },
  {
   "cell_type": "code",
   "execution_count": 7,
   "id": "550b4897",
   "metadata": {},
   "outputs": [
    {
     "ename": "AssertionError",
     "evalue": "Selection 11221 out of range for group ['forward', 'back']",
     "output_type": "error",
     "traceback": [
      "\u001b[31m---------------------------------------------------------------------------\u001b[39m",
      "\u001b[31mAssertionError\u001b[39m                            Traceback (most recent call last)",
      "\u001b[36mCell\u001b[39m\u001b[36m \u001b[39m\u001b[32mIn[7]\u001b[39m\u001b[32m, line 10\u001b[39m\n\u001b[32m      6\u001b[39m action = env.action_space.sample()\n\u001b[32m      7\u001b[39m \u001b[38;5;66;03m# In BASALT environments, sending ESC action will end the episode\u001b[39;00m\n\u001b[32m      8\u001b[39m \u001b[38;5;66;03m# Lets not do that\u001b[39;00m\n\u001b[32m      9\u001b[39m \u001b[38;5;66;03m# action[\"ESC\"] = 0\u001b[39;00m\n\u001b[32m---> \u001b[39m\u001b[32m10\u001b[39m obs, reward, done, _ = \u001b[43menv\u001b[49m\u001b[43m.\u001b[49m\u001b[43mstep\u001b[49m\u001b[43m(\u001b[49m\u001b[43maction\u001b[49m\u001b[43m)\u001b[49m\n\u001b[32m     11\u001b[39m env.render()\n\u001b[32m     12\u001b[39m step_count += \u001b[32m1\u001b[39m\n",
      "\u001b[36mFile \u001b[39m\u001b[32mc:\\Users\\27320\\Projects\\dear_ender_dragon\\dear_ender_dragon_ver2\\wrappers.py:72\u001b[39m, in \u001b[36mCustomActionSpace.step\u001b[39m\u001b[34m(self, action)\u001b[39m\n\u001b[32m     70\u001b[39m         \u001b[38;5;28;01mbreak\u001b[39;00m\n\u001b[32m     71\u001b[39m     \u001b[38;5;28;01melse\u001b[39;00m:\n\u001b[32m---> \u001b[39m\u001b[32m72\u001b[39m         \u001b[38;5;28;01massert\u001b[39;00m \u001b[32m1\u001b[39m <= selection <= \u001b[38;5;28mlen\u001b[39m(group), \u001b[33mf\u001b[39m\u001b[33m\"\u001b[39m\u001b[33mSelection \u001b[39m\u001b[38;5;132;01m{\u001b[39;00mselection\u001b[38;5;132;01m}\u001b[39;00m\u001b[33m out of range for group \u001b[39m\u001b[38;5;132;01m{\u001b[39;00mgroup\u001b[38;5;132;01m}\u001b[39;00m\u001b[33m\"\u001b[39m\n\u001b[32m     73\u001b[39m         action[group[selection - \u001b[32m1\u001b[39m]] = \u001b[32m1\u001b[39m\n\u001b[32m     74\u001b[39m \u001b[38;5;28;01mif\u001b[39;00m main_head == \u001b[32m0\u001b[39m:\n",
      "\u001b[31mAssertionError\u001b[39m: Selection 11221 out of range for group ['forward', 'back']"
     ]
    }
   ],
   "source": [
    "step_count = 0\n",
    "env.reset()\n",
    "done = False\n",
    "while not done:\n",
    "    # Take a random action\n",
    "    action = env.action_space.sample()\n",
    "    # In BASALT environments, sending ESC action will end the episode\n",
    "    # Lets not do that\n",
    "    # action[\"ESC\"] = 0\n",
    "    obs, reward, done, _ = env.step(action)\n",
    "    env.render()\n",
    "    step_count += 1\n",
    "    print(f\"Action: {action}\")\n",
    "    print(f\"Step count: {step_count}\")\n",
    "    print(f\"Done: {done}\")"
   ]
  },
  {
   "cell_type": "code",
   "execution_count": null,
   "id": "45c858ed",
   "metadata": {},
   "outputs": [],
   "source": [
    "env.close()"
   ]
  }
 ],
 "metadata": {
  "kernelspec": {
   "display_name": ".venv",
   "language": "python",
   "name": "python3"
  },
  "language_info": {
   "codemirror_mode": {
    "name": "ipython",
    "version": 3
   },
   "file_extension": ".py",
   "mimetype": "text/x-python",
   "name": "python",
   "nbconvert_exporter": "python",
   "pygments_lexer": "ipython3",
   "version": "3.11.9"
  }
 },
 "nbformat": 4,
 "nbformat_minor": 5
}
