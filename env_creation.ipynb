{
 "cells": [
  {
   "cell_type": "code",
   "execution_count": null,
   "id": "ee178381",
   "metadata": {},
   "outputs": [],
   "source": [
    "import gym\n",
    "from gym.wrappers.record_episode_statistics import RecordEpisodeStatistics\n",
    "import minerl\n",
    "from wrappers import *\n",
    "\n",
    "def make_env(env_id, idx, capture_video, render, run_name):\n",
    "    def thunk():\n",
    "        env = gym.make(env_id)\n",
    "        if capture_video and idx == 0:\n",
    "            env = gym.wrappers.record_video.RecordVideo(env, f\"videos/{run_name}\")\n",
    "        if render and idx == 0:\n",
    "            env = RenderWrapper(env)\n",
    "        env = gym.wrappers.record_episode_statistics.RecordEpisodeStatistics(env)\n",
    "        env = CustomObservationSpace(env)\n",
    "        env = CustomActionSpace(env)\n",
    "        return env\n",
    "\n",
    "    return thunk\n",
    "envs = gym.vector.SyncVectorEnv([make_env(\"MineRLBasaltFindCave-v0\", i, False, True, \"test\") for i in range(1)])\n",
    "\n"
   ]
  },
  {
   "cell_type": "code",
   "execution_count": null,
   "id": "ca270ce6",
   "metadata": {},
   "outputs": [],
   "source": [
    "envs.observation_space"
   ]
  },
  {
   "cell_type": "code",
   "execution_count": null,
   "id": "1efaf76f",
   "metadata": {},
   "outputs": [],
   "source": [
    "envs.action_space"
   ]
  },
  {
   "cell_type": "code",
   "execution_count": null,
   "id": "1366e9a0",
   "metadata": {},
   "outputs": [],
   "source": [
    "print(\"Environment created successfully.\")\n",
    "obs = envs.reset()\n",
    "print(\"Env reset\")\n",
    "step_count = 0"
   ]
  },
  {
   "cell_type": "code",
   "execution_count": null,
   "id": "550b4897",
   "metadata": {},
   "outputs": [],
   "source": [
    "\n",
    "done = []\n",
    "i = 0\n",
    "while True not in done and i < 100:\n",
    "    # Take a random action\n",
    "    action = envs.action_space.sample()\n",
    "    # In BASALT environments, sending ESC action will end the episode\n",
    "    # Lets not do that\n",
    "    # action[\"ESC\"] = 0\n",
    "    obs, reward, done, _ = envs.step(action)\n",
    "    step_count += 1\n",
    "    # print(f\"Action: {action}\")\n",
    "    print(f\"Step count: {step_count}\")\n",
    "    print(f\"Done: {done}\")\n",
    "    # i += 1"
   ]
  },
  {
   "cell_type": "code",
   "execution_count": null,
   "id": "c9bf8cae",
   "metadata": {},
   "outputs": [],
   "source": [
    "envs.step(envs.action_space.sample())"
   ]
  }
 ],
 "metadata": {
  "kernelspec": {
   "display_name": ".venv",
   "language": "python",
   "name": "python3"
  },
  "language_info": {
   "codemirror_mode": {
    "name": "ipython",
    "version": 3
   },
   "file_extension": ".py",
   "mimetype": "text/x-python",
   "name": "python",
   "nbconvert_exporter": "python",
   "pygments_lexer": "ipython3",
   "version": "3.11.9"
  }
 },
 "nbformat": 4,
 "nbformat_minor": 5
}
